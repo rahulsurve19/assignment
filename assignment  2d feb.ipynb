{
 "cells": [
  {
   "cell_type": "code",
   "execution_count": 1,
   "id": "15b9e1c3-0d37-43e3-bb9c-2404d9d371dd",
   "metadata": {},
   "outputs": [],
   "source": [
    "# for loop is use when we want to execute code for all predefined iteration "
   ]
  },
  {
   "cell_type": "code",
   "execution_count": 8,
   "id": "cbca7566-54b6-4919-b809-f4550757aef5",
   "metadata": {},
   "outputs": [
    {
     "name": "stdout",
     "output_type": "stream",
     "text": [
      "256\n",
      "625\n",
      "1296\n",
      "2401\n"
     ]
    }
   ],
   "source": [
    "# for loop\n",
    "n=[16,25,36,49]\n",
    "for i in n:\n",
    "    print(i**2)\n",
    "    \n",
    "  "
   ]
  },
  {
   "cell_type": "code",
   "execution_count": 10,
   "id": "8115e29c-395a-4ba7-98cb-e1e0d11557f2",
   "metadata": {},
   "outputs": [
    {
     "data": {
      "text/plain": [
       "'While loop is use when number of iteration in unknown \\nand we want to excecute block of code for true condition'"
      ]
     },
     "execution_count": 10,
     "metadata": {},
     "output_type": "execute_result"
    }
   ],
   "source": [
    "\"\"\"While loop is use when number of iteration in unknown \n",
    "and we want to excecute block of code for true condition\"\"\"\n"
   ]
  },
  {
   "cell_type": "code",
   "execution_count": 14,
   "id": "07c41419-ddda-4bda-a61e-707900537597",
   "metadata": {},
   "outputs": [
    {
     "name": "stdout",
     "output_type": "stream",
     "text": [
      "1\n",
      "4\n",
      "9\n",
      "16\n",
      "25\n",
      "36\n",
      "49\n",
      "64\n",
      "81\n"
     ]
    }
   ],
   "source": [
    "# while loop wxample\n",
    "i=1\n",
    "while i<10:\n",
    "    print(i**2)\n",
    "    i=i+1"
   ]
  },
  {
   "cell_type": "code",
   "execution_count": 21,
   "id": "d602c30f-9c60-4a33-a698-3313d6f6f9c9",
   "metadata": {},
   "outputs": [
    {
     "data": {
      "text/plain": [
       "55"
      ]
     },
     "execution_count": 21,
     "metadata": {},
     "output_type": "execute_result"
    }
   ],
   "source": [
    "# for loop example of sum of first 10 natural number\n",
    "sum=0\n",
    "for i in range(1,11,1):\n",
    "    sum=sum+i\n",
    "sum\n"
   ]
  },
  {
   "cell_type": "code",
   "execution_count": 22,
   "id": "a420fb6a-9a9e-4554-a94b-625b76b22f87",
   "metadata": {},
   "outputs": [
    {
     "data": {
      "text/plain": [
       "3628800"
      ]
     },
     "execution_count": 22,
     "metadata": {},
     "output_type": "execute_result"
    }
   ],
   "source": [
    "# for loop example of product of first 10 natural number\n",
    "product=1\n",
    "for i in range(1,11,1):\n",
    "    product=product*i\n",
    "product\n"
   ]
  },
  {
   "cell_type": "code",
   "execution_count": 23,
   "id": "9b592be5-3cb7-4b5a-a367-d8e68447cd96",
   "metadata": {},
   "outputs": [
    {
     "data": {
      "text/plain": [
       "55"
      ]
     },
     "execution_count": 23,
     "metadata": {},
     "output_type": "execute_result"
    }
   ],
   "source": [
    "# while loop example of sum of first 10 natural number\n",
    "a=1\n",
    "sum=0\n",
    "while a<=10:\n",
    "    sum=sum+a\n",
    "    a=a+1\n",
    "sum    \n",
    "\n"
   ]
  },
  {
   "cell_type": "code",
   "execution_count": 25,
   "id": "be3d0905-f832-4dec-ad26-8ce44e446bf7",
   "metadata": {},
   "outputs": [
    {
     "data": {
      "text/plain": [
       "3628800"
      ]
     },
     "execution_count": 25,
     "metadata": {},
     "output_type": "execute_result"
    }
   ],
   "source": [
    "# while loop example of product of first 10 natural number\n",
    "a=1\n",
    "product=1\n",
    "while a<=10:\n",
    "    product=product*a\n",
    "    a=a+1\n",
    "product"
   ]
  },
  {
   "cell_type": "code",
   "execution_count": 23,
   "id": "de1f338b-5641-4c54-be02-86fb45f129d4",
   "metadata": {},
   "outputs": [
    {
     "name": "stdin",
     "output_type": "stream",
     "text": [
      "enter unit of electricity consumed in month 310\n"
     ]
    },
    {
     "data": {
      "text/plain": [
       "2250.0"
      ]
     },
     "execution_count": 23,
     "metadata": {},
     "output_type": "execute_result"
    }
   ],
   "source": [
    "# example of python program to compute the electricity bill for a household.\n",
    "n=int(input(\"enter unit of electricity consumed in month\"))\n",
    "Electricity_charge=0\n",
    "if n <=100:\n",
    "    Electricity_charge=(n*4.5)\n",
    "elif n<=200:\n",
    "    Electricity_charge=(n-100)*6+(4.5*100)\n",
    "elif n<=300:\n",
    "    Electricity_charge=(n-200)*10+(100*6)+(4.5*100)\n",
    "else :\n",
    "    Electricity_charge=(n-300)*20+(100*10)+(6*100) +(4.5*100)\n",
    "Electricity_charge"
   ]
  },
  {
   "cell_type": "code",
   "execution_count": null,
   "id": "0fc62a17-26c1-4620-9f21-c0c1e0ccb80f",
   "metadata": {},
   "outputs": [],
   "source": [
    "\"\"\"Q4 -Create a list of numbers from 1 to 100. Use for loop and while loop to calculate the cube of each\n",
    "number and if the cube of that number is divisible by 4 or 5 then append that number in a list and print\n",
    "that list.\"\"\""
   ]
  },
  {
   "cell_type": "code",
   "execution_count": 32,
   "id": "10e6c12d-f660-43b4-b93b-f060dd3b436a",
   "metadata": {},
   "outputs": [],
   "source": [
    "# for loop example\n",
    "l=[]\n",
    "for i in range(1,100,1):\n",
    "      if ((i*i*i)%4)==0 or((i*i*i)%5)==0:\n",
    "            l.append(i)"
   ]
  },
  {
   "cell_type": "code",
   "execution_count": 33,
   "id": "1ddedd84-a057-481f-a887-0434eb50217b",
   "metadata": {},
   "outputs": [
    {
     "data": {
      "text/plain": [
       "[2,\n",
       " 4,\n",
       " 5,\n",
       " 6,\n",
       " 8,\n",
       " 10,\n",
       " 12,\n",
       " 14,\n",
       " 15,\n",
       " 16,\n",
       " 18,\n",
       " 20,\n",
       " 22,\n",
       " 24,\n",
       " 25,\n",
       " 26,\n",
       " 28,\n",
       " 30,\n",
       " 32,\n",
       " 34,\n",
       " 35,\n",
       " 36,\n",
       " 38,\n",
       " 40,\n",
       " 42,\n",
       " 44,\n",
       " 45,\n",
       " 46,\n",
       " 48,\n",
       " 50,\n",
       " 52,\n",
       " 54,\n",
       " 55,\n",
       " 56,\n",
       " 58,\n",
       " 60,\n",
       " 62,\n",
       " 64,\n",
       " 65,\n",
       " 66,\n",
       " 68,\n",
       " 70,\n",
       " 72,\n",
       " 74,\n",
       " 75,\n",
       " 76,\n",
       " 78,\n",
       " 80,\n",
       " 82,\n",
       " 84,\n",
       " 85,\n",
       " 86,\n",
       " 88,\n",
       " 90,\n",
       " 92,\n",
       " 94,\n",
       " 95,\n",
       " 96,\n",
       " 98]"
      ]
     },
     "execution_count": 33,
     "metadata": {},
     "output_type": "execute_result"
    }
   ],
   "source": [
    "l"
   ]
  },
  {
   "cell_type": "code",
   "execution_count": 5,
   "id": "5788f1ca-d31f-47c7-9822-59c6559d5c73",
   "metadata": {},
   "outputs": [
    {
     "name": "stdout",
     "output_type": "stream",
     "text": [
      "12\n"
     ]
    }
   ],
   "source": [
    "#Write a program to filter count vowels in the below-given string.\n",
    "string = \"I want to become a data scientist\"\n",
    "vowels=0\n",
    "for i in string:\n",
    "     if(i=='a' or i=='e' or i=='i' or i=='o' or i=='u' or i=='A' or i=='E' or i=='I' or i=='O' or i=='U'):\n",
    "            vowels=vowels+1\n",
    "print(vowels)\n",
    "    "
   ]
  },
  {
   "cell_type": "code",
   "execution_count": 2,
   "id": "0e5a3634-21b2-4b74-be93-da5ad6b251ab",
   "metadata": {},
   "outputs": [
    {
     "data": {
      "text/plain": [
       "33"
      ]
     },
     "execution_count": 2,
     "metadata": {},
     "output_type": "execute_result"
    }
   ],
   "source": [
    "len(string)"
   ]
  },
  {
   "cell_type": "code",
   "execution_count": 4,
   "id": "b306988c-2591-4e5e-a8e7-e92384ea610e",
   "metadata": {},
   "outputs": [
    {
     "name": "stdout",
     "output_type": "stream",
     "text": [
      "2\n",
      "4\n",
      "5\n",
      "6\n",
      "8\n",
      "10\n",
      "12\n",
      "14\n",
      "15\n",
      "16\n",
      "18\n",
      "20\n",
      "22\n",
      "24\n",
      "25\n",
      "26\n",
      "28\n",
      "30\n",
      "32\n",
      "34\n",
      "35\n",
      "36\n",
      "38\n",
      "40\n",
      "42\n",
      "44\n",
      "45\n",
      "46\n",
      "48\n",
      "50\n",
      "52\n",
      "54\n",
      "55\n",
      "56\n",
      "58\n",
      "60\n",
      "62\n",
      "64\n",
      "65\n",
      "66\n",
      "68\n",
      "70\n",
      "72\n",
      "74\n",
      "75\n",
      "76\n",
      "78\n",
      "80\n",
      "82\n",
      "84\n",
      "85\n",
      "86\n",
      "88\n",
      "90\n",
      "92\n",
      "94\n",
      "95\n",
      "96\n",
      "98\n",
      "100\n"
     ]
    }
   ],
   "source": [
    "# while loop example\n",
    "i=1\n",
    "while i<=100:\n",
    "    if ((i**2)*i)%4==0 or ((i**2)*i)%5==0:\n",
    "        print(i)\n",
    "    i=i+1\n",
    "      "
   ]
  },
  {
   "cell_type": "code",
   "execution_count": null,
   "id": "c73b49a3-8dc5-4dbd-a2a2-4f7e7eac4b25",
   "metadata": {},
   "outputs": [],
   "source": [
    "N"
   ]
  },
  {
   "cell_type": "code",
   "execution_count": null,
   "id": "e87a5fb8-722e-4dc1-ba08-850aec8f4d1e",
   "metadata": {},
   "outputs": [],
   "source": []
  }
 ],
 "metadata": {
  "kernelspec": {
   "display_name": "Python 3 (ipykernel)",
   "language": "python",
   "name": "python3"
  },
  "language_info": {
   "codemirror_mode": {
    "name": "ipython",
    "version": 3
   },
   "file_extension": ".py",
   "mimetype": "text/x-python",
   "name": "python",
   "nbconvert_exporter": "python",
   "pygments_lexer": "ipython3",
   "version": "3.10.8"
  }
 },
 "nbformat": 4,
 "nbformat_minor": 5
}
